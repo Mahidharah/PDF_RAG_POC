{
 "cells": [
  {
   "cell_type": "code",
   "execution_count": 26,
   "metadata": {},
   "outputs": [],
   "source": [
    "# Data Injestion\n",
    "from langchain_community.document_loaders import PyMuPDFLoader\n",
    "from langchain_community.document_loaders import PyPDFLoader\n",
    "from langchain_community.document_loaders import PDFMinerLoader\n",
    "\n",
    "#loader = PyMuPDFLoader('assets/RFP_ITMS-OSRTC050523_FinalDraft_Merged.pdf')\n",
    "loader = PyPDFLoader('assets/RFP_ITMS-OSRTC050523_FinalDraft_Merged.pdf')\n",
    "#loader = PDFMinerLoader('assets/RFP_ITMS-OSRTC050523_FinalDraft_Merged.pdf')"
   ]
  },
  {
   "cell_type": "code",
   "execution_count": 30,
   "metadata": {},
   "outputs": [
    {
     "name": "stdout",
     "output_type": "stream",
     "text": [
      "page_content='RFP Volume -2: Selection of System Integrator (SI) for ITMS  \n",
      " \n",
      "Page 119 of 120 \n",
      " D. Project resource component * :Technical resources  (Development & \n",
      "Implementation phase)  \n",
      "S.N. Component Category  Quantity  Man-month Rate  Total Amount in Words  \n",
      " \n",
      "1 Program Manager  1    \n",
      "2 Team Leader  1    \n",
      "3 Solution Architect  1    \n",
      "4 UI Designer  1    \n",
      "5 Developers (3 -5 years’ \n",
      "Experience)  1    \n",
      "6 Quality Expert  1    \n",
      "7 Mobile Application \n",
      "Developers (3 -5 years’ \n",
      "Experience)  1  \n",
      "  \n",
      "8 Database Admin (5+ \n",
      "Years’ Experience)  1    \n",
      "9 Security Expert  1    \n",
      "10 Systems Admin  1    \n",
      "11 Tester (3 -5 years’ \n",
      "Experience)  1    \n",
      "12 Helpdesk Services  1    \n",
      "*The manpower cost sheet is only for reference;  it shall not be added to the project cost.  \n",
      "E. Operation & Maintenance Payment  \n",
      "Payment for O&M for 3  years will be made on Annuity Plan (Quarterly payment on pro rata basis  on \n",
      "acceptance of Quarterly Progress Report ) \n",
      "9.3. Regulation, Licensing and Domain  \n",
      "The bidder  shall arrange for all the necessary legal, regulatory, and licensing clearances for the \n",
      "trouble free/hassle free operations. All Licenses procured shall be in name of OSRTC.  \n",
      "10. Project and Product Documentation  \n",
      "The Bidder will be responsible for providing  all detailed documentation mentioned in this RFP to \n",
      "OSRTC. The bidder  shall prepare all User Manuals and training documents incorporating details of \n",
      "all menus and functionality provided by the System. The Bidder should provide ongoing product \n",
      "information for  reference purposes and facilitate  self-education for OSRTC Personnel. Key \n",
      "documents to be delivered by the bidder are:   \n",
      " Project Management Plan, Process documents (As -Is and To -Be) consisting of granular details \n",
      "of each functional activity and any change s after the ITS implementation.  \n",
      " Detailed Design document detailing technical architecture (application, network, and security)  ' metadata={'source': 'assets/RFP_ITMS-OSRTC050523_FinalDraft_Merged.pdf', 'page': 187}\n"
     ]
    }
   ],
   "source": [
    "data = loader.load()[187]\n",
    "print(data)"
   ]
  },
  {
   "cell_type": "code",
   "execution_count": null,
   "metadata": {},
   "outputs": [],
   "source": []
  }
 ],
 "metadata": {
  "kernelspec": {
   "display_name": "subsystem",
   "language": "python",
   "name": "python3"
  },
  "language_info": {
   "codemirror_mode": {
    "name": "ipython",
    "version": 3
   },
   "file_extension": ".py",
   "mimetype": "text/x-python",
   "name": "python",
   "nbconvert_exporter": "python",
   "pygments_lexer": "ipython3",
   "version": "3.11.9"
  }
 },
 "nbformat": 4,
 "nbformat_minor": 2
}
